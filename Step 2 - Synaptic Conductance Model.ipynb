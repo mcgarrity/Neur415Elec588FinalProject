{
 "cells": [
  {
   "cell_type": "markdown",
   "id": "bb050081",
   "metadata": {},
   "source": [
    "## Synaptic Conductance Model\n",
    "You will have the above 3 neurons synapse onto a synaptic conductance model (as described in section 5.8 of Dayan and Abbott). This model is simply a Hodgkin-Huxley Model with a synaptic conductance term added (and no external current injection providing excitation). Do not try to account for short term plasticity; keep it simple.\n",
    "Develop a spike counter to reliably detect how many times this cell spikes during the 300 ms time window.\n",
    "Aim to have this neuron spike somewhere between 10 and 40 Hz when contrast is .5. This is tuned by changing the conductance parameter for the synaptic connection. \n",
    "Keep in mind that the above firing rate model doesn't have to be finished to tune the synaptic conductance model."
   ]
  },
  {
   "cell_type": "code",
   "execution_count": 41,
   "id": "3af7b35a",
   "metadata": {},
   "outputs": [],
   "source": [
    "import numpy as np\n",
    "from matplotlib import pyplot as plt\n"
   ]
  },
  {
   "cell_type": "code",
   "execution_count": 4,
   "id": "64ae0c65",
   "metadata": {},
   "outputs": [],
   "source": [
    "# Calculate activation/inactivation rates for Na+ and K+ currents\n",
    "def activationOnRate(V):\n",
    "    #alpha_m\n",
    "    c1 = 0.1\n",
    "    c2 = -0.1\n",
    "    return c1*(V+40)/(1 - np.exp(c2*(V+40)))\n",
    "\n",
    "def activationOffRate(V):\n",
    "    #beta_m\n",
    "    c1 = 4\n",
    "    c2 = -0.0556\n",
    "    return c1*np.exp(c2*(V+65))\n",
    "\n",
    "def inactivationOnRate(V):\n",
    "    #alpha_h\n",
    "    c1 = 0.07\n",
    "    c2 = -0.05\n",
    "    return c1*np.exp(c2*(V+65))\n",
    "\n",
    "def inactivationOffRate(V):\n",
    "    #beta_h\n",
    "    c1 = 1\n",
    "    c2 = -0.1\n",
    "    return c1/(1 + np.exp(c2*(V+35)))\n",
    "\n",
    "def openRate(V):\n",
    "    #alpha_n\n",
    "    c1 = 0.01\n",
    "    c2 = -0.1\n",
    "    return c1*(V+55)/(1 - np.exp(c2*(V+55)))\n",
    "\n",
    "def closedRate(V):\n",
    "    #beta_n\n",
    "    c1 = 0.125\n",
    "    c2 = -0.0125\n",
    "    return c1*np.exp(c2*(V+65))\n",
    "\n",
    "# Other functions for activation/inactivation variables\n",
    "def tau_var(alpha_var, beta_var):\n",
    "    return 1/(alpha_var + beta_var)\n",
    "\n",
    "def var_inf(alpha_var, beta_var):\n",
    "    return alpha_var/(alpha_var + beta_var)"
   ]
  },
  {
   "cell_type": "code",
   "execution_count": 121,
   "id": "e46330f2",
   "metadata": {},
   "outputs": [],
   "source": [
    "def simulateHHNeuron(len_sim, presynaptic_spike_train, gs, dt=0.1):\n",
    "    #Hodgkin Huxley Neuron Parameters\n",
    "    V_rest = -70 #mV\n",
    "    R_m = 10 #m ohms\n",
    "    tau_mem = 10 #ms\n",
    "\n",
    "    V_thr = -54 #mV\n",
    "    V_reset = -80 #mV\n",
    "\n",
    "    c_m = 10 #nF/mm2\n",
    "\n",
    "    #Channel Constants\n",
    "    E_Na = 50 #mV\n",
    "    g_Na = 1.2e3 #mS/mm2\n",
    "\n",
    "    E_K = -77 #mV\n",
    "    g_K = 0.36e3 #mS/mm2\n",
    "\n",
    "    E_L = -54.387 #mV\n",
    "    g_L = 0.003e3 #mS/mm2\n",
    "\n",
    "    #Time stuff\n",
    "    sim_time = int(len_sim/dt)\n",
    "\n",
    "    #Initialize variables\n",
    "    V = np.zeros(sim_time)\n",
    "    V[0] = -65 #mV\n",
    "\n",
    "    m = np.zeros(sim_time)\n",
    "    m[0] = 0.0529\n",
    "\n",
    "    h = np.zeros(sim_time)\n",
    "    h[0] = 0.5961\n",
    "\n",
    "    n = np.zeros(sim_time)\n",
    "    n[0] = 0.3177\n",
    "\n",
    "    spike_count = 0\n",
    "\n",
    "    #Synaptic Conductance Params\n",
    "    P_max = 0.5\n",
    "    tau_s = 10 #ms\n",
    "\n",
    "    #Initialize Synaptic Conductance values\n",
    "    z = 0\n",
    "    P_s = np.zeros(sim_time)\n",
    "    \n",
    "    #Run Simulation\n",
    "    for t in range(sim_time)[1:]:\n",
    "        #Sodium Current Variables\n",
    "        # activation component\n",
    "        alpha_m = activationOnRate(V[t-1])\n",
    "        beta_m = activationOffRate(V[t-1])\n",
    "        tau_m  = tau_var(alpha_m, beta_m)\n",
    "        m_inf = var_inf(alpha_m, beta_m)\n",
    "\n",
    "        # integration method from appendix A yields\n",
    "        m[t] = m_inf + (m[t-1] - m_inf)*np.exp(-dt/tau_m)\n",
    "\n",
    "        # inactivation component\n",
    "        alpha_h = inactivationOnRate(V[t-1])\n",
    "        beta_h = inactivationOffRate(V[t-1])\n",
    "        tau_h  = tau_var(alpha_h, beta_h)\n",
    "        h_inf = var_inf(alpha_h, beta_h)\n",
    "\n",
    "        h[t] = h_inf + (h[t-1] - h_inf)*np.exp(-dt/tau_h)\n",
    "\n",
    "        #Potassium Current Variables\n",
    "        alpha_n = openRate(V[t-1])\n",
    "        beta_n = closedRate(V[t-1])\n",
    "        tau_n = tau_var(alpha_n, beta_n)\n",
    "        n_inf = var_inf(alpha_n, beta_n)\n",
    "\n",
    "        n[t] = n_inf + (n[t-1] - n_inf)*np.exp(-dt/tau_n)\n",
    "\n",
    "        #Synpatic Conductance Variables\n",
    "        #Calculate z\n",
    "        dz = -z / (tau_s/dt)\n",
    "        z += dz\n",
    "        if presynaptic_spike_train[t] ==1:\n",
    "            z = 1\n",
    "\n",
    "        #Calculate P_s\n",
    "        dP_s = (np.exp(1)*P_max*z-P_s[t-1]) / (tau_s/dt)\n",
    "        P_s[t] = P_s[t-1] + dP_s\n",
    "\n",
    "        #Calc membrane potential\n",
    "        # sum conductances\n",
    "        g_all = g_L + g_K*n[t]**4 + g_Na*m[t]**3*h[t] + gs*P_s[t]\n",
    "\n",
    "        # numerical differentiation of dV/dt\n",
    "        tau_V = c_m/g_all\n",
    "        V_inf = (g_L*E_L + g_K*n[t]**4*E_K + g_Na*m[t]**3*h[t]*E_Na + gs*P_s[t])/g_all\n",
    "        V[t] = V_inf + (V[t-1] - V_inf)*np.exp(-dt/tau_V)\n",
    "        \n",
    "        #Count number of spikes\n",
    "        if V[t-1] <=20 and V[t] > 20:\n",
    "            spike_count+=1\n",
    "            \n",
    "    return spike_count"
   ]
  },
  {
   "cell_type": "code",
   "execution_count": 124,
   "id": "1943be70",
   "metadata": {},
   "outputs": [],
   "source": [
    "conditions = range(8)\n",
    "trials = range(30)\n",
    "\n",
    "all_spikes = np.load('part_1_spike_outputs.npy')\n",
    "spike_counts = np.zeros((8, 30))\n",
    "\n",
    "for condition in conditions:\n",
    "    for trial in trials:\n",
    "        fr_model_spikes = all_spikes[condition, :, trial, :]\n",
    "        fr_spike_sum = np.sum(fr_model_spikes, 0)\n",
    "        spike_count = simulateHHNeuron(300, fr_spike_sum, 1.4, 0.1)\n",
    "        spike_counts[condition, trial] = spike_count"
   ]
  },
  {
   "cell_type": "code",
   "execution_count": 125,
   "id": "3942b467",
   "metadata": {},
   "outputs": [
    {
     "data": {
      "text/plain": [
       "Text(0, 0.5, 'Firing Rate (Hz)')"
      ]
     },
     "execution_count": 125,
     "metadata": {},
     "output_type": "execute_result"
    },
    {
     "data": {
      "image/png": "[encoded data removed]",
      "text/plain": [
       "<Figure size 640x480 with 1 Axes>"
      ]
     },
     "metadata": {},
     "output_type": "display_data"
    }
   ],
   "source": [
    "contrast_values = [0.0, 0.1, 0.3, 0.4, 0.5, 0.6, 0.7, 0.9]\n",
    "\n",
    "avg_spike_count = np.mean(spike_counts, 1)\n",
    "plt.plot(conditions, avg_spike_count*3)\n",
    "plt.xticks(conditions, contrast_values)\n",
    "plt.xlabel('Contrast Values')\n",
    "plt.ylabel('Firing Rate (Hz)')"
   ]
  },
  {
   "cell_type": "code",
   "execution_count": 126,
   "id": "29f812cc",
   "metadata": {},
   "outputs": [],
   "source": [
    "spike_counts.tofile('synConductanceSpikeCounts.csv', sep = ',')"
   ]
  },
  {
   "cell_type": "code",
   "execution_count": null,
   "id": "2d78aa28",
   "metadata": {},
   "outputs": [],
   "source": []
  }
 ],
 "metadata": {
  "kernelspec": {
   "display_name": "Python 3 (ipykernel)",
   "language": "python",
   "name": "python3"
  },
  "language_info": {
   "codemirror_mode": {
    "name": "ipython",
    "version": 3
   },
   "file_extension": ".py",
   "mimetype": "text/x-python",
   "name": "python",
   "nbconvert_exporter": "python",
   "pygments_lexer": "ipython3",
   "version": "3.10.12"
  }
 },
 "nbformat": 4,
 "nbformat_minor": 5
}
